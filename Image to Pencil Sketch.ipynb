{
 "cells": [
  {
   "cell_type": "code",
   "execution_count": 3,
   "id": "28830fb4",
   "metadata": {},
   "outputs": [],
   "source": [
    "import cv2"
   ]
  },
  {
   "cell_type": "code",
   "execution_count": 4,
   "id": "0f495409",
   "metadata": {},
   "outputs": [],
   "source": [
    "image = cv2.imread('photo.jpg')"
   ]
  },
  {
   "cell_type": "code",
   "execution_count": 5,
   "id": "f92733d9",
   "metadata": {},
   "outputs": [],
   "source": [
    "grey_img = cv2.cvtColor(image, cv2.COLOR_BGR2GRAY) "
   ]
  },
  {
   "cell_type": "code",
   "execution_count": 7,
   "id": "218ac297",
   "metadata": {},
   "outputs": [],
   "source": [
    "invert = cv2.bitwise_not(grey_img)"
   ]
  },
  {
   "cell_type": "code",
   "execution_count": 8,
   "id": "3cc3984b",
   "metadata": {},
   "outputs": [],
   "source": [
    "blur = cv2.GaussianBlur(invert, (21,21), 0)"
   ]
  },
  {
   "cell_type": "code",
   "execution_count": 9,
   "id": "4918e7b4",
   "metadata": {},
   "outputs": [],
   "source": [
    "inverted = cv2.bitwise_not(blur)"
   ]
  },
  {
   "cell_type": "code",
   "execution_count": 10,
   "id": "8d6fa4ac",
   "metadata": {},
   "outputs": [],
   "source": [
    "sketch = cv2.divide(grey_img, inverted, scale = 256.0)"
   ]
  },
  {
   "cell_type": "code",
   "execution_count": 11,
   "id": "bd1e0e32",
   "metadata": {},
   "outputs": [
    {
     "data": {
      "text/plain": [
       "True"
      ]
     },
     "execution_count": 11,
     "metadata": {},
     "output_type": "execute_result"
    }
   ],
   "source": [
    "cv2.imwrite('New_photo.png', sketch)"
   ]
  },
  {
   "cell_type": "code",
   "execution_count": null,
   "id": "abe14672",
   "metadata": {},
   "outputs": [],
   "source": []
  }
 ],
 "metadata": {
  "kernelspec": {
   "display_name": "Python 3",
   "language": "python",
   "name": "python3"
  },
  "language_info": {
   "codemirror_mode": {
    "name": "ipython",
    "version": 3
   },
   "file_extension": ".py",
   "mimetype": "text/x-python",
   "name": "python",
   "nbconvert_exporter": "python",
   "pygments_lexer": "ipython3",
   "version": "3.8.8"
  }
 },
 "nbformat": 4,
 "nbformat_minor": 5
}
